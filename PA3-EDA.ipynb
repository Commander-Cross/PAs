{
 "cells": [
  {
   "cell_type": "markdown",
   "metadata": {},
   "source": [
    "# [CPSC 322](https://github.com/GonzagaCPSC322) Data Science Algorithms\n",
    "[Gonzaga University](https://www.gonzaga.edu/)\n",
    "\n",
    "[Gina Sprint](http://cs.gonzaga.edu/faculty/sprint/)\n",
    "\n",
    "# PA3 Exploratory Data Analysis (100 pts)\n",
    "\n",
    "## Learner Objectives\n",
    "At the conclusion of this programming assignment, participants should be able to:\n",
    "* Write Markdown and code cells in Jupyter Notebook\n",
    "* Type set equations using Latex\n",
    "* Use `matplotlib` to visualize data\n",
    "* Tell a data science story that involves\n",
    "    * Cleaning data\n",
    "    * Aggregating data and computing summary statistics\n",
    "    * Interpreting visualizations\n",
    "    * Making predictions using simple linear regression\n",
    "\n",
    "## Prerequisites\n",
    "Before starting this programming assignment, participants should be able to:\n",
    "* Use Python for data analysis\n",
    "* Model a 2D table with a custom class\n",
    "\n",
    "## Acknowledgments\n",
    "Content used in this assignment is based upon information in the following sources:\n",
    "* Auto dataset visualizations: Dr. Shawn Bowers' Data Mining HW2"
   ]
  },
  {
   "cell_type": "markdown",
   "metadata": {},
   "source": [
    "## Github Classroom Setup\n",
    "For this assignment, you will use GitHub Classroom to create a private code repository to track code changes and submit your assignment. Open this PA3 link to accept the assignment and create a private repository for your assignment in Github classroom: https://classroom.github.com/a/hyZkgFw-\n",
    "\n",
    "Your repo, for example, will be named GonzagaCPSC322/pa3-yourusername (where yourusername is your Github username). I highly recommend committing/pushing regularly so your work is always backed up. We will grade your most recent commit, even if that commit is after the due date (your work will be marked late if this is the case)."
   ]
  },
  {
   "cell_type": "markdown",
   "metadata": {},
   "source": [
    "## Overview and Requirements\n",
    "For this programming assignment, we are going to perform exploratory data analysis (EDA) of three real-world datasets that contain interesting insights. To do this, we will **implement our solutions for each dataset in their own Jupyter Notebook. The three Jupyter Notebooks will share common, re-usable utility code in .py modules.**\n",
    "\n",
    "Each Jupyter Notebook should be well-organized with interleaved code cells and markdown cells. Here are general requirements that your Notebooks should conform to:\n",
    "* Your EDA story should be appropriately labeled using markdown headers for at least the dataset description, preparation/cleaning (if necessary), and exploration\n",
    "* Your EDA story should consist of a well-written narrative describing the dataset-specific code, in-line charts (with labels!!), results, and insights you come up with for each step\n",
    "* Non-dataset-specific code should be designed/implemented as generic and re-usable functions (that can be used for future programming assignments and data mining tasks)\n",
    "    * Put plotting-related functions in `plot_utils.py`\n",
    "    * Put other functions in `utils.py`\n",
    "* Each formula that you use in your code must be typeset using Latex and described in markdown\n",
    "    * E.g. formulas used for stats and linear regression/predictions\n",
    "\n",
    "Notes regarding `MyPyTable`:\n",
    "* Copy your `MyPyTable` from PA2\n",
    "* You are encouraged (but not required) to use `MyPyTable` to store the data in tables\n",
    "    * Feel free to add additional methods to `MyPyTable` that implement standard table behavior\n",
    "* Do not modify the signatures of existing `MyPyTable` methods from PA2 (future unit tests may call them)\n",
    "    \n",
    "Note: we are learning data science from scratch! The only non-standard Python library you should need to use for this assignment is `tabulate` and `matplotlib`. This means that beyond these libraries, you should not `pip install` any additional libraries beyond what is included in the [continuumio/anaconda3:2022.05](https://hub.docker.com/r/continuumio/anaconda3) Docker image and you should not use `pandas/numpy/scipy/`etc..."
   ]
  },
  {
   "cell_type": "markdown",
   "metadata": {},
   "source": [
    "## Part 1 Warming-up: 🎮 The Video Game Sales Dataset 🎮 (10 pts)\n",
    "Write your EDA and dataset-specific code in VGSales.ipynb. See Figure 1 (a) and (b) for examples of these visualizations required for this dataset.\n",
    "\n",
    "### Step 1 Frequency Diagrams (5 pts)\n",
    "Create a frequency diagram for each of the following attributes (viewed as categorical):\n",
    "1. Platform\n",
    "1. Year\n",
    "1. Genre\n",
    "\n",
    "Each diagram should show the frequency (i.e., total number) of games per value of the given attribute. Use a basic bar chart to draw your frequency diagrams.\n",
    "\n",
    "### Step 2 Pie Charts (5 pts)\n",
    "Create a pie chart showing the percent of global sales for NA, JP, EU, other sales. Your pie chart should include the percentages for each value (using `autopct=\"%1.1f%%\"`)."
   ]
  },
  {
   "cell_type": "markdown",
   "metadata": {},
   "source": [
    "## Part 2 Feeling Confident: 🚗 The Auto Dataset 🚗 (35 pts)\n",
    "Write your EDA and dataset-specific code in AutoData.ipynb. See Figure 1 (a), (c), and (d) for examples of these visualizations required for this dataset.\n",
    "\n",
    "### Step 1 Frequency Diagrams (5 pts)\n",
    "Create a frequency diagram for each of the following attributes (viewed as categorical):\n",
    "1. Cylinders\n",
    "1. Model year\n",
    "1. Origin\n",
    "\n",
    "Each diagram should show the frequency (i.e., total number) of cars per value of the given attribute. Use a basic bar chart to draw your frequency diagrams. \n",
    "    \n",
    "### Step 2 Discretization and Frequency Diagrams (10 pts)\n",
    "There is often a need to transform a continuous attribute into a categorical attribute. Use the following two approaches to convert MPG into a categorical attribute.\n",
    "\n",
    "**Approach 1**: The US Department of Energy (DOE) assigns gasoline vehicles a fuel economy rating from 1 (worst) to 10 (best). The ratings are defined in terms of MPG as follows:\n",
    "\n",
    "Rating |MPG\n",
    "-|-|\n",
    "10 |≥ 45\n",
    "9 |37–44\n",
    "8 |31–36\n",
    "7 |27–30\n",
    "6 |24–26\n",
    "5 |20–23\n",
    "4 |17–19\n",
    "3 |15–16\n",
    "2 |14\n",
    "1 |≤ 13\n",
    "\n",
    "Use these ranges to define category values (denoting rating 1 to 10) for the mpg attribute.\n",
    "\n",
    "**Approach 2**: Create 5 \"equal-width\" bins to generate categories. Each bin should divide up the range of MPG values into equal subranges, where value 1 denotes the smallest subrange of values and 5 the largest subrange of values.\n",
    "\n",
    "For each approach, create a corresponding frequency diagram. Each frequency diagram should label bins according to their corresponding ranges (e.g., \"27--30\").\n",
    "\n",
    "### Step 3 Histograms (10 pts)\n",
    "Create a histogram using the `plt.hist()` function showing the values for the following attributes:\n",
    "1. MPG\n",
    "1. Displacement\n",
    "1. Horsepower\n",
    "1. Weight\n",
    "1. Acceleration\n",
    "1. MSRP\n",
    "\n",
    "Use the default of 10 bins. For each attribute, inspect its histogram and comment on its shape as one of the following (or as \"seemingly random\"):\n",
    "\n",
    "![](https://chartio.com/assets/8609d7/tutorials/charts/histograms/64918b209c6e60b56bee9d8c7ba22dcd854370078e6b8377f272c85119080728/histogram-example-2.png)\n",
    "\n",
    "(image from https://chartio.com/learn/charts/histogram-complete-guide/)\n",
    "\n",
    "### Step 4 Continuous/Continuous Relationships (10 pts)\n",
    "Create scatter plots that compare the following attributes to MPG (i.e. where MPG is the y-axis in each scatter plot):\n",
    "1. Displacement\n",
    "1. Horsepower\n",
    "1. Weight\n",
    "1. Acceleration\n",
    "1. MSRP\n",
    "\n",
    "Then calculate the (least-squares) linear regressions and add the corresponding linear regression lines for comparing each attribute to MPG. Label each plot with the correlation coefficient and covariance. Are there any particularly strong relationships?"
   ]
  },
  {
   "cell_type": "markdown",
   "metadata": {},
   "source": [
    "## Part 3 It's Show Time!: 🍿 The Movies Dataset 🍿 (45 pts)\n",
    "Write your EDA and dataset-specific code in Movies.ipynb. See Figure 1 (a), (b), (c), (d), and (e) for examples of these visualizations required for this dataset.\n",
    "\n",
    "### Step 1 General EDA (30 pts)\n",
    "Perform your own EDA to answer each data science question below. Include evidence to support your answer.\n",
    "\n",
    "1. (5 pts) How many movies does each streaming service (Netflix, Hulu, Prime, Disney+) host? Who hosts the most movies? \n",
    "1. (5 pts) Of the total occurrences of hosted movies (note a movie can be hosted on multiple services), what percent does each streaming service host?\n",
    "1. (10 pts) How does the distribution of IMDb ratings compare to the distribution of Rotten Tomatoes scores?\n",
    "1. (10 pts) Are IMDb ratings and Rotten Tomatoes scores in agreement? Meaning if one rates a movie low (or high), is it likely the other one did as well? What is the strength of this relationship?\n",
    "\n",
    "### Step 2 Categorical/Continuous Relationships (15 pts)\n",
    "How do the distributions of IMDb ratings *for each genre* compare to the distributions of Rotten Tomatoes scores *for each genre*? Is there a particular genre that IMDb and/or Rotten Tomatoes seems to rate consistently high (or low)? To answer this, make a chart (separately for IMDb and Rotten Tomatoes) with genre on the x-axis and rating on the y-axis. Each genre should have a vertical box and whisker showing the distribution of ratings for that genre.\n",
    "\n",
    "Note: This is challenging for a few reasons, one of which is how the genre is stored for each movie. Since a movie can have more than one genre, you should appropriately use a movie's rating in the distributions for all of its genres. Happy coding!!"
   ]
  },
  {
   "cell_type": "markdown",
   "metadata": {},
   "source": [
    "## Bonus (5 pts) \n",
    "* (2 pts) Run the `pylint` linter over your PA3 code in .py files (ignore Jupyter Notebooks) and make sure it receives a 10/10 rating\n",
    "    * See PA1 bonus for more information on how to do this.\n",
    "* (3 pts) Create a multiple frequency chart to compare categorical/categorical attributes for the Video Game Dataset. To do this, create a bar chart of the sales from each region (categorical) separated out by genre. See Figure 1 (f) for an example of this visualization."
   ]
  },
  {
   "cell_type": "markdown",
   "metadata": {},
   "source": [
    "## Figure 1: Example Visualizations\n",
    "![Figure 1](https://raw.githubusercontent.com/GonzagaCPSC322/PAs/master/figures/auto_data_charts.png)\n",
    "\n",
    "Example visualizations: \n",
    "* (a) Frequency diagram of equal width binning\n",
    "* (b) Pie chart\n",
    "* (c) Histogram\n",
    "* (d) Scatter plot linear regression line\n",
    "* (e) Box and whisker plot\n",
    "* (f) Multiple frequency diagram"
   ]
  },
  {
   "cell_type": "markdown",
   "metadata": {},
   "source": [
    "## Submitting Assignments\n",
    "1. Use Github classroom to submit your assignment via a Github repo. See the \"Github Classroom Setup\" section at the beginning of this document for details on how to do this. You must commit your solution by the due date and time.\n",
    "1. Double check your submission by \"pretending to be the grader\": clone (or download a zip) your submission repo and run your code in a fresh [continuumio/anaconda3:2022.05](https://hub.docker.com/r/continuumio/anaconda3) Docker container like we will when we grade your code."
   ]
  },
  {
   "cell_type": "markdown",
   "metadata": {},
   "source": [
    "## Grading Guidelines\n",
    "This assignment is worth 100 points + 5 points bonus. Your assignment will be evaluated based on a successful execution in the [continuumio/anaconda3:2022.05](https://hub.docker.com/r/continuumio/anaconda3) Docker container and adherence to the program requirements. We will grade according to the following criteria:\n",
    "* 10 pts for EDA of video game sales dataset\n",
    "* 35 pts for EDA of auto data sales dataset\n",
    "* 45 pts for EDA of movies dataset\n",
    "* 10 pts for adherence to course [coding standard](https://nbviewer.jupyter.org/github/GonzagaCPSC322/PAs/blob/master/Coding%20Standard.ipynb), including data storytelling (narrative is clear and grammatically correct, Notebook is organized with headers, formulas are typeset with Latex, etc.)."
   ]
  }
 ],
 "metadata": {
  "anaconda-cloud": {},
  "kernelspec": {
   "display_name": "Python 3 (ipykernel)",
   "language": "python",
   "name": "python3"
  },
  "language_info": {
   "codemirror_mode": {
    "name": "ipython",
    "version": 3
   },
   "file_extension": ".py",
   "mimetype": "text/x-python",
   "name": "python",
   "nbconvert_exporter": "python",
   "pygments_lexer": "ipython3",
   "version": "3.9.7"
  }
 },
 "nbformat": 4,
 "nbformat_minor": 4
}
